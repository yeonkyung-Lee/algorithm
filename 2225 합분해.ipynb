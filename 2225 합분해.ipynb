{
 "cells": [
  {
   "cell_type": "markdown",
   "id": "bd5ab7fd",
   "metadata": {},
   "source": [
    "0부터 N까지의 정수 K개를 더해서 그 합이 N이 되는 경우의 수를 구하는 프로그램을 작성하시오.\n",
    "\n",
    "덧셈의 순서가 바뀐 경우는 다른 경우로 센다(1+2와 2+1은 서로 다른 경우). 또한 한 개의 수를 여러 번 쓸 수도 있다."
   ]
  },
  {
   "cell_type": "code",
   "execution_count": null,
   "id": "db613f9a",
   "metadata": {},
   "outputs": [],
   "source": [
    "n, k = map(int,input().split())\n",
    "dp = [[0] * 201 for i in range(201)]\n",
    "\n",
    "for i in range(1, 201):\n",
    "    dp[1][i] = 1\n",
    "    dp[2][i] = i+1\n",
    "\n",
    "for i in range(2, 201):\n",
    "    dp[i][1] = i\n",
    "    for j in range(2, 201):\n",
    "        dp[i][j]=(dp[i][j-1]+dp[i-1][j])%1000000000\n",
    "\n",
    "print(dp[k][n])\n",
    "\n"
   ]
  }
 ],
 "metadata": {
  "kernelspec": {
   "display_name": "Python 3 (ipykernel)",
   "language": "python",
   "name": "python3"
  },
  "language_info": {
   "codemirror_mode": {
    "name": "ipython",
    "version": 3
   },
   "file_extension": ".py",
   "mimetype": "text/x-python",
   "name": "python",
   "nbconvert_exporter": "python",
   "pygments_lexer": "ipython3",
   "version": "3.9.7"
  }
 },
 "nbformat": 4,
 "nbformat_minor": 5
}
