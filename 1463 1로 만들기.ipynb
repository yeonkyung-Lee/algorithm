{
 "cells": [
  {
   "cell_type": "markdown",
   "id": "df3b65c2",
   "metadata": {},
   "source": [
    "정수 X에 사용할 수 있는 연산은 다음과 같이 세 가지 이다.\n",
    "\n",
    "* X가 3으로 나누어 떨어지면, 3으로 나눈다.\n",
    "* X가 2로 나누어 떨어지면, 2로 나눈다.\n",
    "* 1을 뺀다.\n",
    "\n",
    "정수 N이 주어졌을 때, 위와 같은 연산 세 개를 적절히 사용해서 1을 만들려고 한다. 연산을 사용하는 횟수의 최솟값을 출력하시오."
   ]
  },
  {
   "cell_type": "code",
   "execution_count": null,
   "id": "3a507e97",
   "metadata": {},
   "outputs": [],
   "source": [
    "n = int(input())\n",
    "\n",
    "dp = [0 for _ in range(n+1)]\n",
    "\n",
    "for i in range(2, n+1):\n",
    "    dp[i] = dp[i-1] + 1  \n",
    "\n",
    "    if i%2 == 0 and dp[i] > dp[i//2] + 1 :\n",
    "        dp[i] = dp[i//2]+1\n",
    "        \n",
    "    if i%3 == 0 and dp[i] > dp[i//3] + 1 :\n",
    "        dp[i] = dp[i//3] + 1\n",
    "        \n",
    "print(dp[n])"
   ]
  }
 ],
 "metadata": {
  "kernelspec": {
   "display_name": "Python 3 (ipykernel)",
   "language": "python",
   "name": "python3"
  },
  "language_info": {
   "codemirror_mode": {
    "name": "ipython",
    "version": 3
   },
   "file_extension": ".py",
   "mimetype": "text/x-python",
   "name": "python",
   "nbconvert_exporter": "python",
   "pygments_lexer": "ipython3",
   "version": "3.9.7"
  }
 },
 "nbformat": 4,
 "nbformat_minor": 5
}
