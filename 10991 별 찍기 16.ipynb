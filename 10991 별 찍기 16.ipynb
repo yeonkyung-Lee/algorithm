{
 "cells": [
  {
   "cell_type": "markdown",
   "id": "55e5395e",
   "metadata": {},
   "source": [
    "예제를 보고 규칙을 유추한 뒤에 별을 찍어 보세요.\n",
    "\n",
    "첫째 줄에 N(1 ≤ N ≤ 100)이 주어진다.\n",
    "\n",
    "첫째 줄부터 N번째 줄까지 차례대로 별을 출력한다."
   ]
  },
  {
   "cell_type": "code",
   "execution_count": 2,
   "id": "e8d42586",
   "metadata": {},
   "outputs": [
    {
     "name": "stdout",
     "output_type": "stream",
     "text": [
      "10\n",
      "         * \n",
      "        * * \n",
      "       * * * \n",
      "      * * * * \n",
      "     * * * * * \n",
      "    * * * * * * \n",
      "   * * * * * * * \n",
      "  * * * * * * * * \n",
      " * * * * * * * * * \n",
      "* * * * * * * * * * \n"
     ]
    }
   ],
   "source": [
    "N = int(input())\n",
    "\n",
    "for i in range(1, N+1):\n",
    "    print(' '* (N-i), end = '')\n",
    "    for j in range(i): \n",
    "        print('*', end = ' ')\n",
    "    print()"
   ]
  },
  {
   "cell_type": "code",
   "execution_count": null,
   "id": "a3748b6c",
   "metadata": {},
   "outputs": [],
   "source": []
  }
 ],
 "metadata": {
  "kernelspec": {
   "display_name": "Python 3 (ipykernel)",
   "language": "python",
   "name": "python3"
  },
  "language_info": {
   "codemirror_mode": {
    "name": "ipython",
    "version": 3
   },
   "file_extension": ".py",
   "mimetype": "text/x-python",
   "name": "python",
   "nbconvert_exporter": "python",
   "pygments_lexer": "ipython3",
   "version": "3.9.7"
  }
 },
 "nbformat": 4,
 "nbformat_minor": 5
}
