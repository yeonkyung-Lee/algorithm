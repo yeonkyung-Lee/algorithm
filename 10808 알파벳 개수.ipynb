{
 "cells": [
  {
   "cell_type": "markdown",
   "id": "139b2bac",
   "metadata": {},
   "source": [
    "알파벳 소문자로만 이루어진 단어 S가 주어진다. 각 알파벳이 단어에 몇 개가 포함되어 있는지 구하는 프로그램을 작성하시오."
   ]
  },
  {
   "cell_type": "code",
   "execution_count": null,
   "id": "756f69ba",
   "metadata": {},
   "outputs": [],
   "source": [
    "### 첫번째 풀이\n",
    "import sys\n",
    "word = str(sys.stdin.readline())\n",
    "alphabet = 'abcdefghijklmnopqrstuvwxyz'\n",
    "word_freq = [0 for _ in range(len(alphabet))]\n",
    "for _ in word:\n",
    "    if _ in alphabet:\n",
    "        idx = alphabet.find(_)\n",
    "        word_freq[idx] += 1\n",
    "print(*word_freq)\n",
    "## print(word_freq[:])로 하면 틀림 -> 리스트 형태로 출력되기 때문\n",
    "## 리스트의 값만 전체를 뽑아내려면 *list 이용해준다."
   ]
  },
  {
   "cell_type": "code",
   "execution_count": null,
   "id": "a622eff2",
   "metadata": {},
   "outputs": [],
   "source": [
    "### 두번째 풀이\n",
    "s = list(input())\n",
    "r = [0 for i in range(26)]\n",
    "for i in s:\n",
    "    r[ord(i)-97] += 1\n",
    "print(*r)"
   ]
  }
 ],
 "metadata": {
  "kernelspec": {
   "display_name": "Python 3 (ipykernel)",
   "language": "python",
   "name": "python3"
  },
  "language_info": {
   "codemirror_mode": {
    "name": "ipython",
    "version": 3
   },
   "file_extension": ".py",
   "mimetype": "text/x-python",
   "name": "python",
   "nbconvert_exporter": "python",
   "pygments_lexer": "ipython3",
   "version": "3.9.7"
  }
 },
 "nbformat": 4,
 "nbformat_minor": 5
}
