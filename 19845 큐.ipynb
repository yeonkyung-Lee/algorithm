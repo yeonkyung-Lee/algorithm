{
 "cells": [
  {
   "cell_type": "markdown",
   "id": "76769126",
   "metadata": {},
   "source": [
    "정수를 저장하는 큐를 구현한 다음, 입력으로 주어지는 명령을 처리하는 프로그램을 작성하시오.\n",
    "\n",
    "명령은 총 여섯 가지이다.\n",
    "\n",
    "- push X: 정수 X를 큐에 넣는 연산이다.\n",
    "- pop: 큐에서 가장 앞에 있는 정수를 빼고, 그 수를 출력한다. 만약 큐에 들어있는 정수가 없는 경우에는 -1을 출력한다.\n",
    "- size: 큐에 들어있는 정수의 개수를 출력한다.\n",
    "- empty: 큐가 비어있으면 1, 아니면 0을 출력한다.\n",
    "- front: 큐의 가장 앞에 있는 정수를 출력한다. 만약 큐에 들어있는 정수가 없는 경우에는 -1을 출력한다.\n",
    "- back: 큐의 가장 뒤에 있는 정수를 출력한다. 만약 큐에 들어있는 정수가 없는 경우에는 -1을 출력한다."
   ]
  },
  {
   "cell_type": "code",
   "execution_count": null,
   "id": "0c7c345f",
   "metadata": {},
   "outputs": [],
   "source": [
    "import sys\n",
    "n = int(sys.stdin.readline())\n",
    "que=[]\n",
    "for _ in range(n):\n",
    "    cmd = sys.stdin.readline().split()\n",
    "    if cmd[0] == \"push\":\n",
    "        que.append(cmd[1])\n",
    "    elif cmd[0] == \"pop\":\n",
    "        if len(que) == 0:\n",
    "            print(-1)\n",
    "        else:\n",
    "            print(que[0])\n",
    "            del que[0]\n",
    "    elif cmd[0] == \"size\":\n",
    "        print(len(que))\n",
    "    elif cmd[0] == \"empty\":\n",
    "        if len(que) == 0:\n",
    "            print(1)\n",
    "        else:\n",
    "            print(0)\n",
    "    elif cmd[0] == \"front\":\n",
    "        if len(que)==0:\n",
    "            print(-1)\n",
    "        else:\n",
    "            print(que[0])\n",
    "    elif cmd[0] == \"back\":\n",
    "        if len(que) == 0:\n",
    "            print(-1)\n",
    "        else:\n",
    "            print(que[-1])"
   ]
  }
 ],
 "metadata": {
  "kernelspec": {
   "display_name": "Python 3 (ipykernel)",
   "language": "python",
   "name": "python3"
  },
  "language_info": {
   "codemirror_mode": {
    "name": "ipython",
    "version": 3
   },
   "file_extension": ".py",
   "mimetype": "text/x-python",
   "name": "python",
   "nbconvert_exporter": "python",
   "pygments_lexer": "ipython3",
   "version": "3.9.7"
  }
 },
 "nbformat": 4,
 "nbformat_minor": 5
}
